{
 "cells": [
  {
   "cell_type": "markdown",
   "id": "a78bb356-9553-4e76-a6c8-ac2b99bfcb72",
   "metadata": {},
   "source": [
    "# 1. Prerequisites first"
   ]
  },
  {
   "cell_type": "code",
   "execution_count": null,
   "id": "d68e59c9-7878-49bc-8ab8-a7d8ff30c45c",
   "metadata": {},
   "outputs": [],
   "source": []
  },
  {
   "cell_type": "markdown",
   "id": "0764384f-3f6d-4f63-b057-96948d388e25",
   "metadata": {},
   "source": [
    "# 2. Fetch S3 File(s)"
   ]
  },
  {
   "cell_type": "code",
   "execution_count": null,
   "id": "8c4fbdee-985a-4f6e-aeca-7bd887c58ded",
   "metadata": {},
   "outputs": [],
   "source": []
  },
  {
   "cell_type": "markdown",
   "id": "1a3f593e-543e-4250-aba8-7787becd1d7d",
   "metadata": {},
   "source": [
    "# 3. Query S3 File(s)"
   ]
  },
  {
   "cell_type": "code",
   "execution_count": null,
   "id": "92d49e82-94a0-4d2c-af3a-52444c99a120",
   "metadata": {},
   "outputs": [],
   "source": []
  }
 ],
 "metadata": {
  "kernelspec": {
   "display_name": "conda_python3",
   "language": "python",
   "name": "conda_python3"
  },
  "language_info": {
   "codemirror_mode": {
    "name": "ipython",
    "version": 3
   },
   "file_extension": ".py",
   "mimetype": "text/x-python",
   "name": "python",
   "nbconvert_exporter": "python",
   "pygments_lexer": "ipython3",
   "version": "3.8.12"
  }
 },
 "nbformat": 4,
 "nbformat_minor": 5
}
